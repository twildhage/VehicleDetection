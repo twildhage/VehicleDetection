{
 "cells": [
  {
   "cell_type": "code",
   "execution_count": null,
   "metadata": {
    "collapsed": false
   },
   "outputs": [],
   "source": [
    "import numpy as np\n",
    "import cv2\n",
    "import matplotlib.pyplot as plt\n",
    "import matplotlib.image as mpimg\n",
    "from mpl_toolkits.mplot3d import Axes3D\n",
    "\n",
    "from glob import glob\n",
    "import time\n",
    "import os\n",
    "\n",
    "from sklearn.svm import LinearSVC \n",
    "from sklearn.preprocessing import StandardScaler\n",
    "from skimage.feature import hog\n",
    "\n",
    "import pipeline as pl\n",
    "\n",
    "# Reload custum module everytime\n",
    "%load_ext autoreload\n",
    "%aimport pipeline\n",
    "%autoreload 1\n"
   ]
  },
  {
   "cell_type": "markdown",
   "metadata": {},
   "source": [
    "# Load Training and Test Datasets"
   ]
  },
  {
   "cell_type": "code",
   "execution_count": null,
   "metadata": {
    "collapsed": false
   },
   "outputs": [],
   "source": [
    "mldata_path = '/home/timo/Documents/mldata/project_5/'\n",
    "\n",
    "image_files = pl.get_image_files(path=mldata_path)\n",
    "\n",
    "number_of_images = {key: len(image_files[key]) for key in image_files}\n",
    "for key in number_of_images:\n",
    "    print(number_of_images[key])\n",
    "    "
   ]
  },
  {
   "cell_type": "code",
   "execution_count": null,
   "metadata": {
    "collapsed": false
   },
   "outputs": [],
   "source": [
    "img = mpimg.imread(image_files['vehicles'][0])\n",
    "\n",
    "colorspace = 'RGB' # Can be RGB, HSV, LUV, HLS, YUV, YCrCb\n",
    "orient = 9\n",
    "pix_per_cell = 8\n",
    "cell_per_block = 2\n",
    "hog_channel = 0 # Can be 0, 1, 2, or \"ALL\"\n",
    "\n",
    "gray = cv2.cvtColor(img, cv2.COLOR_RGB2GRAY)\n",
    "\n",
    "hog = pl.get_hog_features(gray, orient, pix_per_cell, cell_per_block, vis=True)"
   ]
  },
  {
   "cell_type": "code",
   "execution_count": null,
   "metadata": {
    "collapsed": false
   },
   "outputs": [],
   "source": [
    "fig, axes = plt.subplots(1, 4, figsize=(20, 3))\n",
    "axes[0].imshow(img)\n",
    "axes[1].imshow(hog[1], 'gray')\n",
    "axes[2].plot(hog[0])\n",
    "axes[3].hist(hog[0], bins=32, range=[0.025,0.2])\n",
    "plt.show()"
   ]
  },
  {
   "cell_type": "code",
   "execution_count": null,
   "metadata": {
    "collapsed": false
   },
   "outputs": [],
   "source": [
    "features = {key: [] for key in image_files}\n",
    "labels   = {key: [] for key in image_files}\n",
    "\n",
    "for key in image_files:\n",
    "    features[key] = pl.extract_features(image_files[key][0:10], spatial_size=(8, 8))\n",
    "    \n",
    "labels['vehicles']      = np.ones((features[key].shape[0],1))\n",
    "labels['non-vehicles']  = np.zeros((features[key].shape[0],1))\n",
    "\n",
    "print(\"Shape of features and labels:\")\n",
    "print(features['vehicles'].shape)\n",
    "print(labels['vehicles'].shape)"
   ]
  },
  {
   "cell_type": "code",
   "execution_count": null,
   "metadata": {
    "collapsed": false
   },
   "outputs": [],
   "source": [
    "for key in features:\n",
    "    plt.figure(figsize=(20,3))\n",
    "    plt.hist(features[key].ravel(), bins=256)\n",
    "    plt.grid('on')\n",
    "    plt.show()"
   ]
  },
  {
   "cell_type": "code",
   "execution_count": null,
   "metadata": {
    "collapsed": true
   },
   "outputs": [],
   "source": []
  }
 ],
 "metadata": {
  "kernelspec": {
   "display_name": "Python 3",
   "language": "python",
   "name": "python3"
  },
  "language_info": {
   "codemirror_mode": {
    "name": "ipython",
    "version": 3
   },
   "file_extension": ".py",
   "mimetype": "text/x-python",
   "name": "python",
   "nbconvert_exporter": "python",
   "pygments_lexer": "ipython3",
   "version": "3.6.0"
  }
 },
 "nbformat": 4,
 "nbformat_minor": 2
}
