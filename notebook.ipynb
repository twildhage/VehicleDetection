{
 "cells": [
  {
   "cell_type": "code",
   "execution_count": 8,
   "metadata": {
    "collapsed": false
   },
   "outputs": [
    {
     "name": "stdout",
     "output_type": "stream",
     "text": [
      "The autoreload extension is already loaded. To reload it, use:\n",
      "  %reload_ext autoreload\n"
     ]
    }
   ],
   "source": [
    "import numpy as np\n",
    "import cv2\n",
    "import matplotlib.pyplot as plt\n",
    "import matplotlib.image as mpimg\n",
    "from mpl_toolkits.mplot3d import Axes3D\n",
    "\n",
    "from glob import glob\n",
    "import time\n",
    "import os\n",
    "\n",
    "from sklearn.svm import LinearSVC \n",
    "from sklearn.preprocessing import StandardScaler\n",
    "from skimage.feature import hog\n",
    "\n",
    "import pipeline as pl\n",
    "\n",
    "# Reload custum module everytime\n",
    "%load_ext autoreload\n",
    "%aimport pipeline\n",
    "%autoreload 1\n"
   ]
  },
  {
   "cell_type": "markdown",
   "metadata": {},
   "source": [
    "# Load Training and Test Datasets"
   ]
  },
  {
   "cell_type": "code",
   "execution_count": 52,
   "metadata": {
    "collapsed": false
   },
   "outputs": [
    {
     "name": "stdout",
     "output_type": "stream",
     "text": [
      "Subfolders of non-vehicles:\n",
      "['Extras', '.DS_Store', 'GTI']\n",
      "Subfolders of vehicles:\n",
      "['GTI_Far', 'GTI_Right', 'KITTI_extracted', 'GTI_MiddleClose', '.DS_Store', 'GTI_Left']\n"
     ]
    }
   ],
   "source": [
    "mldata_path = '/home/timo/Documents/mldata/project_5/'\n",
    "image_folders     = os.listdir(mldata_path)\n",
    "\n",
    "image_files = {key: [] for key in image_folders}\n",
    "\n",
    "for folder in image_folders:\n",
    "    subfolders = os.listdir(mldata_path+folder)\n",
    "    print(\"Subfolders of {}:\".format(folder))    \n",
    "    print(subfolders)\n",
    "    \n",
    "    for subfolder in subfolders:\n",
    "        abs_path = mldata_path + folder + '/' + subfolder + '/*.png'\n",
    "        files =  glob(abs_path)\n",
    "        image_files[folder].append(files)\n"
   ]
  },
  {
   "cell_type": "code",
   "execution_count": null,
   "metadata": {
    "collapsed": true
   },
   "outputs": [],
   "source": []
  }
 ],
 "metadata": {
  "kernelspec": {
   "display_name": "Python 3",
   "language": "python",
   "name": "python3"
  },
  "language_info": {
   "codemirror_mode": {
    "name": "ipython",
    "version": 3
   },
   "file_extension": ".py",
   "mimetype": "text/x-python",
   "name": "python",
   "nbconvert_exporter": "python",
   "pygments_lexer": "ipython3",
   "version": "3.6.0"
  }
 },
 "nbformat": 4,
 "nbformat_minor": 2
}
