{
 "cells": [
  {
   "cell_type": "code",
   "execution_count": null,
   "metadata": {
    "collapsed": false
   },
   "outputs": [],
   "source": [
    "import numpy as np\n",
    "import cv2\n",
    "import matplotlib.pyplot as plt\n",
    "import matplotlib.image as mpimg\n",
    "from mpl_toolkits.mplot3d import Axes3D\n",
    "\n",
    "from glob import glob\n",
    "import time\n",
    "import os\n",
    "\n",
    "from sklearn.svm import LinearSVC \n",
    "from sklearn.preprocessing import StandardScaler\n",
    "from skimage.feature import hog\n",
    "\n",
    "import pipeline as pl\n",
    "\n",
    "# Reload custum module everytime\n",
    "%load_ext autoreload\n",
    "%aimport pipeline\n",
    "%autoreload 1\n"
   ]
  },
  {
   "cell_type": "markdown",
   "metadata": {},
   "source": [
    "# Load Training and Test Datasets"
   ]
  },
  {
   "cell_type": "code",
   "execution_count": null,
   "metadata": {
    "collapsed": false
   },
   "outputs": [],
   "source": [
    "mldata_path = '/home/timo/Documents/mldata/project_5/'    "
   ]
  },
  {
   "cell_type": "code",
   "execution_count": null,
   "metadata": {
    "collapsed": false
   },
   "outputs": [],
   "source": [
    "dataset = pl.get_image_files(mldata_path)\n",
    "print(len(dataset['files']))\n",
    "print(len(dataset['labels']))"
   ]
  },
  {
   "cell_type": "code",
   "execution_count": null,
   "metadata": {
    "collapsed": false
   },
   "outputs": [],
   "source": [
    "for n in range(0, 3):\n",
    "    plt.imshow(mpimg.imread(dataset['files'][n]))\n",
    "    print(dataset['labels'][n])\n",
    "    plt.show()"
   ]
  },
  {
   "cell_type": "code",
   "execution_count": null,
   "metadata": {
    "collapsed": false
   },
   "outputs": [],
   "source": [
    "img = mpimg.imread(dataset['files'][0])\n",
    "\n",
    "colorspace = 'RGB' # Can be RGB, HSV, LUV, HLS, YUV, YCrCb\n",
    "orient = 9\n",
    "pix_per_cell = 8\n",
    "cell_per_block = 2\n",
    "hog_channel = 0 # Can be 0, 1, 2, or \"ALL\"\n",
    "\n",
    "gray = cv2.cvtColor(img, cv2.COLOR_RGB2GRAY)\n",
    "\n",
    "hog = pl.get_hog_features(gray, orient, pix_per_cell, cell_per_block, vis=True)"
   ]
  },
  {
   "cell_type": "code",
   "execution_count": null,
   "metadata": {
    "collapsed": false
   },
   "outputs": [],
   "source": [
    "fig, axes = plt.subplots(1, 4, figsize=(20, 3))\n",
    "axes[0].imshow(img)\n",
    "axes[1].imshow(hog[1], 'gray')\n",
    "axes[2].plot(hog[0])\n",
    "axes[3].hist(hog[0], bins=32, range=[0.025,0.2])\n",
    "plt.show()"
   ]
  },
  {
   "cell_type": "code",
   "execution_count": null,
   "metadata": {
    "collapsed": false
   },
   "outputs": [],
   "source": [
    "nb_samples = 1000# min(len(image_files['vehicles']), len(image_files['non-vehicles']))\n",
    "kw_extract = {'color_space':'RGB',\n",
    "              'spatial_size':(16, 16),\n",
    "              'hist_bins':32,\n",
    "              'orient':9,              \n",
    "              'pix_per_cell':8,\n",
    "              'cell_per_block':2,\n",
    "              'hog_channel':0,\n",
    "              'spatial_feat':True,\n",
    "              'hist_feat':True,\n",
    "              'hog_feat':True}\n",
    "kw_split   = {'test_size': 0.2}\n",
    "\n",
    "\n",
    "X, y, f = pl.extract_and_split(dataset, kw_extract, kw_split, nb_samples)"
   ]
  },
  {
   "cell_type": "code",
   "execution_count": null,
   "metadata": {
    "collapsed": false
   },
   "outputs": [],
   "source": [
    "plt.figure(figsize=(20,3))\n",
    "plt.hist(features.ravel(), bins=256)\n",
    "plt.grid('on')\n",
    "plt.show()"
   ]
  },
  {
   "cell_type": "code",
   "execution_count": null,
   "metadata": {
    "collapsed": false
   },
   "outputs": [],
   "source": [
    "# Use a linear SVC \n",
    "svc = LinearSVC()\n",
    "# Check the training time for the SVC\n",
    "t=time.time()\n",
    "\n",
    "svc.fit(X['train'], y['train'])\n",
    "t2 = time.time()\n",
    "print(round(t2-t, 2), 'Seconds to train SVC...')\n",
    "# Check the score of the SVC\n",
    "print(\"Test Accuracy of SVC = {}\".format(svc.score(X['test'], y['test']), 4))\n",
    "# Check the prediction time for a single sample\n",
    "t=time.time()"
   ]
  },
  {
   "cell_type": "code",
   "execution_count": null,
   "metadata": {
    "collapsed": false
   },
   "outputs": [],
   "source": [
    "n_predict = 10\n",
    "print('My SVC predicts: ', svc.predict(X['test'][0:n_predict]))\n",
    "print('For these',n_predict, 'labels: ', y['test'][0:n_predict].T)\n",
    "t2 = time.time()\n",
    "print(round(t2-t, 5), 'Seconds to predict', n_predict,'labels with SVC')"
   ]
  },
  {
   "cell_type": "code",
   "execution_count": null,
   "metadata": {
    "collapsed": false
   },
   "outputs": [],
   "source": [
    "n = 6\n",
    "plt.imshow(mpimg.imread(f['test'][n]))\n",
    "print(y['test'][n])\n",
    "plt.show()"
   ]
  }
 ],
 "metadata": {
  "kernelspec": {
   "display_name": "Python 3",
   "language": "python",
   "name": "python3"
  },
  "language_info": {
   "codemirror_mode": {
    "name": "ipython",
    "version": 3
   },
   "file_extension": ".py",
   "mimetype": "text/x-python",
   "name": "python",
   "nbconvert_exporter": "python",
   "pygments_lexer": "ipython3",
   "version": "3.6.0"
  }
 },
 "nbformat": 4,
 "nbformat_minor": 2
}
