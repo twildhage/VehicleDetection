{
 "cells": [
  {
   "cell_type": "code",
   "execution_count": null,
   "metadata": {
    "collapsed": false
   },
   "outputs": [],
   "source": [
    "import numpy as np\n",
    "import cv2\n",
    "import matplotlib.pyplot as plt\n",
    "import matplotlib.image as mpimg\n",
    "from mpl_toolkits.mplot3d import Axes3D\n",
    "\n",
    "from glob import glob\n",
    "import time\n",
    "import os\n",
    "\n",
    "from sklearn.svm import LinearSVC \n",
    "from sklearn.preprocessing import StandardScaler\n",
    "from skimage.feature import hog\n",
    "\n",
    "import pipeline as pl\n",
    "\n",
    "# Reload custum module everytime\n",
    "%load_ext autoreload\n",
    "%aimport pipeline\n",
    "%autoreload 1\n"
   ]
  },
  {
   "cell_type": "markdown",
   "metadata": {},
   "source": [
    "# Load Training and Test Datasets"
   ]
  },
  {
   "cell_type": "code",
   "execution_count": null,
   "metadata": {
    "collapsed": true
   },
   "outputs": [],
   "source": [
    "def get_image_files(path):\n",
    "    image_folders     = os.listdir(path)\n",
    "    image_files = {key: [] for key in image_folders}\n",
    "    for folder in image_folders:\n",
    "\n",
    "        subfolders = os.listdir(path+folder)\n",
    "        print(\"Subfolders of {}:\".format(folder))    \n",
    "        print(subfolders)\n",
    "\n",
    "        for subfolder in subfolders:\n",
    "            abs_path = path + folder + '/' + subfolder + '/*.png'\n",
    "            if not subfolder.startswith('.'):\n",
    "                files =  glob(abs_path)\n",
    "                [image_files[folder].append(file) for file in files]\n",
    "                \n",
    "    dataset = {'files': [], 'labels': []}\n",
    "    for key in image_files:\n",
    "        print(key)\n",
    "        for file in image_files[key]:\n",
    "            dataset['files'].append(file)\n",
    "            if key == 'vehicles':\n",
    "                dataset['labels'].append(1)\n",
    "            elif key == 'non-vehicles':\n",
    "                dataset['labels'].append(0)\n",
    "                \n",
    "    np.random.seed(42)\n",
    "    np.random.shuffle(dataset['files'])\n",
    "    np.random.seed(42)\n",
    "    np.random.shuffle(dataset['labels'])            \n",
    "    \n",
    "    return dataset\n",
    "dataset = get_image_files(mldata_path)\n",
    "print(len(dataset['files']))\n",
    "print(len(dataset['labels']))"
   ]
  },
  {
   "cell_type": "code",
   "execution_count": null,
   "metadata": {
    "collapsed": true
   },
   "outputs": [],
   "source": [
    "for n in range(0, 3):\n",
    "    plt.imshow(mpimg.imread(dataset['files'][n]))\n",
    "    print(dataset['labels'][n])\n",
    "    plt.show()"
   ]
  },
  {
   "cell_type": "code",
   "execution_count": null,
   "metadata": {
    "collapsed": false
   },
   "outputs": [],
   "source": [
    "mldata_path = '/home/timo/Documents/mldata/project_5/'\n",
    "\n",
    "image_files = pl.get_image_files(path=mldata_path)\n",
    "\n",
    "number_of_images = {key: len(image_files[key]) for key in image_files}\n",
    "for key in number_of_images:\n",
    "    print(number_of_images[key])\n",
    "    "
   ]
  },
  {
   "cell_type": "code",
   "execution_count": null,
   "metadata": {
    "collapsed": false
   },
   "outputs": [],
   "source": [
    "img = mpimg.imread(image_files['vehicles'][0])\n",
    "\n",
    "colorspace = 'RGB' # Can be RGB, HSV, LUV, HLS, YUV, YCrCb\n",
    "orient = 9\n",
    "pix_per_cell = 8\n",
    "cell_per_block = 2\n",
    "hog_channel = 0 # Can be 0, 1, 2, or \"ALL\"\n",
    "\n",
    "gray = cv2.cvtColor(img, cv2.COLOR_RGB2GRAY)\n",
    "\n",
    "hog = pl.get_hog_features(gray, orient, pix_per_cell, cell_per_block, vis=True)"
   ]
  },
  {
   "cell_type": "code",
   "execution_count": null,
   "metadata": {
    "collapsed": false
   },
   "outputs": [],
   "source": [
    "fig, axes = plt.subplots(1, 4, figsize=(20, 3))\n",
    "axes[0].imshow(img)\n",
    "axes[1].imshow(hog[1], 'gray')\n",
    "axes[2].plot(hog[0])\n",
    "axes[3].hist(hog[0], bins=32, range=[0.025,0.2])\n",
    "plt.show()"
   ]
  },
  {
   "cell_type": "code",
   "execution_count": null,
   "metadata": {
    "collapsed": false
   },
   "outputs": [],
   "source": [
    "features = {key: [] for key in image_files}\n",
    "labels   = {key: [] for key in image_files}\n",
    "nb_samples = 100# min(len(image_files['vehicles']), len(image_files['non-vehicles']))\n",
    "\n",
    "\n",
    "for key in image_files:\n",
    "    features[key] = pl.extract_features(image_files[key][0:nb_samples], spatial_feat=False)\n",
    "    \n",
    "labels['vehicles']      = np.ones((features['vehicles'].shape[0],1))\n",
    "labels['non-vehicles']  = np.zeros((features['non-vehicles'].shape[0],1))\n",
    "\n",
    "#print(\"\\nShape of features and labels:\")\n",
    "#print(features['vehicles'].shape)\n",
    "#print(labels['vehicles'].shape)"
   ]
  },
  {
   "cell_type": "code",
   "execution_count": null,
   "metadata": {
    "collapsed": true
   },
   "outputs": [],
   "source": [
    "for key in features:\n",
    "    plt.figure(figsize=(20,3))\n",
    "    plt.hist(features[key].ravel(), bins=256)\n",
    "    plt.grid('on')\n",
    "    plt.show()"
   ]
  },
  {
   "cell_type": "code",
   "execution_count": null,
   "metadata": {
    "collapsed": false,
    "scrolled": false
   },
   "outputs": [],
   "source": [
    "X, y          = pl.get_shuffle_split_train_test_datasets(features=features, nb_samples=nb_samples)\n",
    "images, files = pl.get_shuffle_split_train_test_images(image_files, nb_samples=nb_samples)\n",
    "\n",
    "print(\"Number of samples \\ntraining:\\t{0} \\ntest:\\t\\t{1}\".format(X['train'].shape[0], X['test'].shape[0]))"
   ]
  },
  {
   "cell_type": "code",
   "execution_count": null,
   "metadata": {
    "collapsed": true
   },
   "outputs": [],
   "source": [
    "# Use a linear SVC \n",
    "svc = LinearSVC()\n",
    "# Check the training time for the SVC\n",
    "t=time.time()\n",
    "\n",
    "svc.fit(X['train'], y['train'])\n",
    "t2 = time.time()\n",
    "print(round(t2-t, 2), 'Seconds to train SVC...')\n",
    "# Check the score of the SVC\n",
    "print('Test Accuracy of SVC = ', round(svc.score(X['test'], y['test']), 4))\n",
    "# Check the prediction time for a single sample\n",
    "t=time.time()"
   ]
  },
  {
   "cell_type": "code",
   "execution_count": null,
   "metadata": {
    "collapsed": false
   },
   "outputs": [],
   "source": [
    "n_predict = 10\n",
    "print('My SVC predicts: ', svc.predict(X['test'][0:n_predict]))\n",
    "print('For these',n_predict, 'labels: ', y['test'][0:n_predict].T)\n",
    "t2 = time.time()\n",
    "print(round(t2-t, 5), 'Seconds to predict', n_predict,'labels with SVC')"
   ]
  },
  {
   "cell_type": "code",
   "execution_count": null,
   "metadata": {
    "collapsed": false
   },
   "outputs": [],
   "source": [
    "n = 6\n",
    "plt.imshow(images['test'][n])\n",
    "print(y['test'][n])\n",
    "plt.show()"
   ]
  },
  {
   "cell_type": "code",
   "execution_count": null,
   "metadata": {
    "collapsed": false
   },
   "outputs": [],
   "source": [
    "n = 0\n",
    "img = mpimg.imread(image_files['vehicles'][n])\n",
    "plt.imshow(img)\n",
    "print(labels['vehicles'][n])\n",
    "plt.show()"
   ]
  },
  {
   "cell_type": "code",
   "execution_count": null,
   "metadata": {
    "collapsed": true
   },
   "outputs": [],
   "source": [
    "np.random.seed(42)\n",
    "np.random.shuffle(image_files['vehicles'])\n",
    "np.random.seed(42)\n",
    "np.random.shuffle(labels['vehicles'])"
   ]
  },
  {
   "cell_type": "code",
   "execution_count": null,
   "metadata": {
    "collapsed": true
   },
   "outputs": [],
   "source": []
  }
 ],
 "metadata": {
  "kernelspec": {
   "display_name": "Python 3",
   "language": "python",
   "name": "python3"
  },
  "language_info": {
   "codemirror_mode": {
    "name": "ipython",
    "version": 3
   },
   "file_extension": ".py",
   "mimetype": "text/x-python",
   "name": "python",
   "nbconvert_exporter": "python",
   "pygments_lexer": "ipython3",
   "version": "3.6.0"
  }
 },
 "nbformat": 4,
 "nbformat_minor": 2
}
