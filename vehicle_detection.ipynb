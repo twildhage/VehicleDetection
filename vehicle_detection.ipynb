{
 "cells": [
  {
   "cell_type": "code",
   "execution_count": null,
   "metadata": {},
   "outputs": [],
   "source": [
    "import sys\n",
    "import mkl\n",
    "mkl.get_max_threads()\n",
    "\n",
    "import numpy as np\n",
    "import matplotlib.pyplot as plt\n",
    "import matplotlib.image as mpimg\n",
    "from moviepy.editor import VideoFileClip\n",
    "#from mpl_toolkits.mplot3d import Axes3D\n",
    "from sklearn.svm import LinearSVC \n",
    "from sklearn.preprocessing import StandardScaler\n",
    "from scipy.ndimage.measurements import label\n",
    "from scipy.spatial.distance import cdist\n",
    "\n",
    "from skimage.feature import hog\n",
    "import cv2\n",
    "from glob import glob\n",
    "import time\n",
    "import os\n",
    "import pickle\n",
    "\n",
    "import pickle\n",
    "from sklearn.model_selection import train_test_split\n",
    "from keras.preprocessing import image\n",
    "from keras.models import load_model, Model, Sequential\n",
    "from keras.layers import Activation, Dropout, Flatten, Dense, Dropout, Lambda, Input, Concatenate, Add, Cropping2D\n",
    "from keras.layers.convolutional import Conv2D\n",
    "from keras.optimizers import Adam\n",
    "from keras.utils.np_utils import to_categorical\n",
    "\n",
    "import pipeline as pl\n",
    "import VehicleDetector as vd\n",
    "\n",
    "\n",
    "# Reload custum module everytime\n",
    "%reload_ext autoreload\n",
    "%aimport pipeline, VehicleDetector\n",
    "%autoreload 1"
   ]
  },
  {
   "cell_type": "markdown",
   "metadata": {},
   "source": [
    "## Defining the Scanning Windows"
   ]
  },
  {
   "cell_type": "code",
   "execution_count": null,
   "metadata": {
    "collapsed": true
   },
   "outputs": [],
   "source": [
    "kw_windows_far = {'center_coords':(900, 600),\n",
    "               'xy_area_size':(800, 220),\n",
    "               'window_widths':180,\n",
    "               'width_height_ratio': 0.75,\n",
    "               'overlap':0.1}\n",
    "kw_windows_mid = {'center_coords':(900,550),\n",
    "               'xy_area_size':(800, 150),\n",
    "               'window_widths':140,\n",
    "               'width_height_ratio': 0.75,\n",
    "               'overlap':0.1}\n",
    "kw_windows_near = {'center_coords':(900,450),\n",
    "               'xy_area_size':(800, 150),\n",
    "               'window_widths':120,\n",
    "               'width_height_ratio': 0.75,\n",
    "               'overlap':0.1}\n",
    "kw_windows_right = {'center_coords':(1100,500),\n",
    "               'xy_area_size':(400, 400),\n",
    "               'window_widths':280,\n",
    "               'width_height_ratio': 1,\n",
    "               'overlap':0.1}\n",
    "\n",
    "windows_far   = pl.full_scan_windows(**kw_windows_far)\n",
    "windows_mid   = pl.full_scan_windows(**kw_windows_mid)\n",
    "windows_near  = pl.full_scan_windows(**kw_windows_near)\n",
    "windows_right = pl.full_scan_windows(**kw_windows_right)\n",
    "\n",
    "windows = []\n",
    "for w in windows_far:\n",
    "    windows.append(w)\n",
    "for w in windows_mid:\n",
    "    windows.append(w)\n",
    "for w in windows_near:\n",
    "    windows.append(w)\n",
    "for w in windows_right:\n",
    "    windows.append(w)"
   ]
  },
  {
   "cell_type": "markdown",
   "metadata": {},
   "source": [
    "## Loading the Model"
   ]
  },
  {
   "cell_type": "code",
   "execution_count": null,
   "metadata": {},
   "outputs": [],
   "source": [
    "scalers = pickle.load( open('./scalers.p', 'rb'))   \n",
    "model = load_model('./model.h5')\n",
    "model.summary()"
   ]
  },
  {
   "cell_type": "markdown",
   "metadata": {},
   "source": [
    "## Detect Vehicles and Save Project Video"
   ]
  },
  {
   "cell_type": "code",
   "execution_count": null,
   "metadata": {
    "scrolled": true
   },
   "outputs": [],
   "source": [
    "video_filename = './project_video.mp4'\n",
    "n = 905\n",
    "dn = 15\n",
    "\n",
    "objects  = vd.Detector(model)\n",
    "vehicles = vd.Detector(model)\n",
    "distances = []\n",
    "\n",
    "def create_project_video():\n",
    "    \n",
    "    MAX_LAYERS = 6\n",
    "    MAX_LOCAL_LAYERS = 2\n",
    "    MIN_DISTANCE = 100\n",
    "    timer = 0\n",
    "    def detect_vehicles(video_frame):\n",
    "        nonlocal timer\n",
    "        img = (video_frame/255.0).astype(np.float32)\n",
    "        window_img = img.copy()\n",
    "            \n",
    "        if timer > 30:\n",
    "            # ++++++++++++++++++++++ F U L L  S C A N ++++++++++++++++++++++\n",
    "            timer = 0\n",
    "            objects.detections = []\n",
    "            boxes, predictions = vehicles.full_scan(img, windows, MAX_LAYERS, verbose=0)\n",
    "            for box, prediction in zip(boxes, predictions):\n",
    "                objects.detections.append(vd.Car(img, box, prediction, scalers))\n",
    "            for car in vehicles.detections:\n",
    "                for box, prediction, detection in zip(boxes, predictions, objects.detections):\n",
    "                    p1 = np.array(car.center_coords).reshape(1,-1)\n",
    "                    p2 = np.array(detection.center_coords).reshape(1,-1)\n",
    "                    dist = cdist(p1, p2) \n",
    "                    distances.append(dist)\n",
    "                    if dist < MIN_DISTANCE:\n",
    "                        objects.detections.remove(detection)\n",
    "                        boxes.remove(box)\n",
    "                        predictions.remove(prediction)\n",
    "            for box, prediction in zip(boxes, predictions):\n",
    "                vehicles.detections.append(vd.Car(img, box, prediction, scalers))\n",
    "\n",
    "        \n",
    "        # ++++++++++++++++++++++ L O C A L  S C A N ++++++++++++++++++++++\n",
    "        timer += 1\n",
    "        local_boxes, predictions = vehicles.local_scan(img, MAX_LOCAL_LAYERS, verbose=0)\n",
    "        window_img = pl.draw_boxes(window_img, local_boxes, color=(1, 0, 0), thick=2) \n",
    "            \n",
    "        result = (window_img*255).astype(np.uint8)\n",
    "        return result\n",
    "\n",
    "    video = VideoFileClip(video_filename)\n",
    "    detection_video = video.fl_image( detect_vehicles )\n",
    "    %time detection_video.write_videofile(\"./vehicle_detection_video.mp4\", audio=False)\n",
    "    return detection_video\n",
    "detection_video = create_project_video()\n",
    " "
   ]
  }
 ],
 "metadata": {
  "kernelspec": {
   "display_name": "Python 3",
   "language": "python",
   "name": "python3"
  },
  "language_info": {
   "codemirror_mode": {
    "name": "ipython",
    "version": 3
   },
   "file_extension": ".py",
   "mimetype": "text/x-python",
   "name": "python",
   "nbconvert_exporter": "python",
   "pygments_lexer": "ipython3",
   "version": "3.6.1"
  }
 },
 "nbformat": 4,
 "nbformat_minor": 2
}
